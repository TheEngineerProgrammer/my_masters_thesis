{
 "cells": [
  {
   "cell_type": "code",
   "execution_count": 1,
   "metadata": {
    "executionInfo": {
     "elapsed": 2346,
     "status": "ok",
     "timestamp": 1674501722682,
     "user": {
      "displayName": "Crazy Programmer",
      "userId": "06838130414212290363"
     },
     "user_tz": -60
    },
    "id": "5GsEnLw1GcxD"
   },
   "outputs": [],
   "source": [
    "import numpy as np\n",
    "import matplotlib.pyplot as plt\n",
    "from tensorflow import keras\n",
    "from tensorflow.keras import layers\n",
    "import tensorflow as tf\n",
    "tf.keras.utils.set_random_seed(3)\n",
    "from tqdm import tqdm\n",
    "from tensorflow.keras.utils import plot_model\n",
    "import tensorflow_probability as tfp\n",
    "import time"
   ]
  },
  {
   "cell_type": "code",
   "execution_count": 2,
   "metadata": {
    "executionInfo": {
     "elapsed": 4,
     "status": "ok",
     "timestamp": 1674501722682,
     "user": {
      "displayName": "Crazy Programmer",
      "userId": "06838130414212290363"
     },
     "user_tz": -60
    },
    "id": "Cfz_3gCPM0am"
   },
   "outputs": [],
   "source": [
    "import gc"
   ]
  },
  {
   "cell_type": "code",
   "execution_count": 34,
   "metadata": {},
   "outputs": [],
   "source": [
    "from sklearn.metrics import ConfusionMatrixDisplay, classification_report, confusion_matrix, accuracy_score"
   ]
  },
  {
   "cell_type": "markdown",
   "metadata": {
    "id": "mdej7R3qGqQM"
   },
   "source": [
    "# Data"
   ]
  },
  {
   "cell_type": "code",
   "execution_count": 74,
   "metadata": {
    "executionInfo": {
     "elapsed": 4,
     "status": "ok",
     "timestamp": 1674501722683,
     "user": {
      "displayName": "Crazy Programmer",
      "userId": "06838130414212290363"
     },
     "user_tz": -60
    },
    "id": "T_RvyIc9GoFl"
   },
   "outputs": [],
   "source": [
    "BASE_PATH = \"\"#\"/content/drive/MyDrive/Cursos/TFM_AI/TFM/aplicacion/\"\n",
    "train_path = BASE_PATH + \"data/train.npz\"\n",
    "test_path = BASE_PATH + \"data/test.npz\"\n",
    "classifier_path = BASE_PATH + \"models/classifier.h5\"\n",
    "\n",
    "cvae_path = BASE_PATH + \"models/cvae.h5\"\n",
    "\n",
    "cvae_cgan_path = BASE_PATH + \"models/cvae-cgan_no_noise.h5\"\n",
    "\n",
    "#vq_vae\n",
    "vq_vae_path = BASE_PATH + \"models/vq_vae.h5\"\n",
    "pixelcnn_model_path = BASE_PATH + \"models/vq_vae_pixelcnn.h5\"\n",
    "\n",
    "#vq_vae2\n",
    "vq_vae2_path = \"models/vq_vae2.h5\"\n",
    "pixelcnnt_model_path = \"models/vq_vae2_Gpixelcnn_top.h5\"\n",
    "pixelcnnb_model_path = \"models/vq_vae2_Gpixelcnn_bottom.h5\"\n",
    "\n",
    "#vq_vae2_new_bottom\n",
    "pixelcnnb_model_path_i = \"models/vq_vae2_Gpixelcnn_bottom_i.h5\""
   ]
  },
  {
   "cell_type": "code",
   "execution_count": 4,
   "metadata": {
    "colab": {
     "base_uri": "https://localhost:8080/"
    },
    "executionInfo": {
     "elapsed": 2242,
     "status": "ok",
     "timestamp": 1674501724921,
     "user": {
      "displayName": "Crazy Programmer",
      "userId": "06838130414212290363"
     },
     "user_tz": -60
    },
    "id": "LSkyGijdBkrp",
    "outputId": "33c8b48e-93e4-469b-d37f-45d165c6540a"
   },
   "outputs": [],
   "source": [
    "# from google.colab import drive\n",
    "# drive.mount('/content/drive')"
   ]
  },
  {
   "cell_type": "code",
   "execution_count": 5,
   "metadata": {
    "colab": {
     "base_uri": "https://localhost:8080/"
    },
    "executionInfo": {
     "elapsed": 397,
     "status": "ok",
     "timestamp": 1674501725315,
     "user": {
      "displayName": "Crazy Programmer",
      "userId": "06838130414212290363"
     },
     "user_tz": -60
    },
    "id": "WBArY6JzG5ff",
    "outputId": "aac03ba3-56fe-49c6-d75d-c0717fbd16b5"
   },
   "outputs": [
    {
     "data": {
      "text/plain": [
       "((10000, 128, 128, 1), (10000,))"
      ]
     },
     "execution_count": 5,
     "metadata": {},
     "output_type": "execute_result"
    }
   ],
   "source": [
    "train_data = np.load(train_path)\n",
    "X_train = train_data[\"arr_0\"]\n",
    "y_train = train_data[\"arr_1\"]\n",
    "X_train.shape, y_train.shape"
   ]
  },
  {
   "cell_type": "code",
   "execution_count": 6,
   "metadata": {
    "colab": {
     "base_uri": "https://localhost:8080/"
    },
    "executionInfo": {
     "elapsed": 5,
     "status": "ok",
     "timestamp": 1674501725316,
     "user": {
      "displayName": "Crazy Programmer",
      "userId": "06838130414212290363"
     },
     "user_tz": -60
    },
    "id": "C50XxtCtG_QN",
    "outputId": "57f5621b-04bf-4af9-ce51-463936356ad6"
   },
   "outputs": [
    {
     "data": {
      "text/plain": [
       "((400, 128, 128, 1), (400,))"
      ]
     },
     "execution_count": 6,
     "metadata": {},
     "output_type": "execute_result"
    }
   ],
   "source": [
    "test_data = np.load(test_path)\n",
    "X_test = test_data[\"arr_0\"]\n",
    "y_test = test_data[\"arr_1\"]\n",
    "X_test.shape, y_test.shape"
   ]
  },
  {
   "cell_type": "code",
   "execution_count": 7,
   "metadata": {
    "executionInfo": {
     "elapsed": 821,
     "status": "ok",
     "timestamp": 1674501726135,
     "user": {
      "displayName": "Crazy Programmer",
      "userId": "06838130414212290363"
     },
     "user_tz": -60
    },
    "id": "oeHL1o13HAis"
   },
   "outputs": [],
   "source": [
    "X_train = X_train / 255.\n",
    "X_test = X_test / 255."
   ]
  },
  {
   "cell_type": "markdown",
   "metadata": {
    "id": "3PkFNy1FHCdh"
   },
   "source": [
    "# Classifier"
   ]
  },
  {
   "cell_type": "code",
   "execution_count": 8,
   "metadata": {
    "colab": {
     "base_uri": "https://localhost:8080/"
    },
    "executionInfo": {
     "elapsed": 5,
     "status": "ok",
     "timestamp": 1674501726136,
     "user": {
      "displayName": "Crazy Programmer",
      "userId": "06838130414212290363"
     },
     "user_tz": -60
    },
    "id": "l4w7zCkEHdbc",
    "outputId": "a1e2b0d2-d0cc-44df-acab-f8246f771912"
   },
   "outputs": [
    {
     "data": {
      "text/plain": [
       "(128, 128, 1)"
      ]
     },
     "execution_count": 8,
     "metadata": {},
     "output_type": "execute_result"
    }
   ],
   "source": [
    "images_shape = X_test.shape[1:]\n",
    "images_shape"
   ]
  },
  {
   "cell_type": "code",
   "execution_count": 9,
   "metadata": {
    "colab": {
     "base_uri": "https://localhost:8080/"
    },
    "executionInfo": {
     "elapsed": 1106,
     "status": "ok",
     "timestamp": 1674502783439,
     "user": {
      "displayName": "Crazy Programmer",
      "userId": "06838130414212290363"
     },
     "user_tz": -60
    },
    "id": "f4-k-NV-IhjL",
    "outputId": "8ff11576-9598-4b51-e152-bd50b3603aad"
   },
   "outputs": [],
   "source": [
    "classifier = keras.models.load_model(classifier_path)"
   ]
  },
  {
   "cell_type": "code",
   "execution_count": 10,
   "metadata": {},
   "outputs": [
    {
     "name": "stdout",
     "output_type": "stream",
     "text": [
      "13/13 [==============================] - 6s 29ms/step - loss: 0.2476 - accuracy: 0.9175\n"
     ]
    },
    {
     "data": {
      "text/plain": [
       "[0.24764598906040192, 0.9175000190734863]"
      ]
     },
     "execution_count": 10,
     "metadata": {},
     "output_type": "execute_result"
    }
   ],
   "source": [
    "classifier.evaluate(X_test, y_test)"
   ]
  },
  {
   "cell_type": "code",
   "execution_count": 13,
   "metadata": {},
   "outputs": [
    {
     "name": "stdout",
     "output_type": "stream",
     "text": [
      "13/13 [==============================] - 1s 45ms/step\n"
     ]
    }
   ],
   "source": [
    "y_pred = classifier.predict(X_test)\n",
    "y_pred = np.round(y_pred.squeeze())"
   ]
  },
  {
   "cell_type": "code",
   "execution_count": 16,
   "metadata": {},
   "outputs": [],
   "source": [
    "target_names = [\"Negative\", \"Positive\"]"
   ]
  },
  {
   "cell_type": "code",
   "execution_count": 22,
   "metadata": {},
   "outputs": [
    {
     "data": {
      "image/png": "[encoded data removed]",
      "text/plain": [
       "<Figure size 640x480 with 2 Axes>"
      ]
     },
     "metadata": {},
     "output_type": "display_data"
    }
   ],
   "source": [
    "cm = confusion_matrix(y_test, y_pred)\n",
    "disp = ConfusionMatrixDisplay(cm, display_labels=target_names)\n",
    "disp.plot()\n",
    "plt.show()"
   ]
  },
  {
   "cell_type": "code",
   "execution_count": 17,
   "metadata": {},
   "outputs": [
    {
     "name": "stdout",
     "output_type": "stream",
     "text": [
      "              precision    recall  f1-score   support\n",
      "\n",
      "    Negative       0.87      0.98      0.92       200\n",
      "    Positive       0.98      0.85      0.91       200\n",
      "\n",
      "    accuracy                           0.92       400\n",
      "   macro avg       0.92      0.92      0.92       400\n",
      "weighted avg       0.92      0.92      0.92       400\n",
      "\n"
     ]
    }
   ],
   "source": [
    "print(classification_report(y_test, y_pred, target_names=target_names))"
   ]
  },
  {
   "cell_type": "markdown",
   "metadata": {},
   "source": [
    "Remember:  \n",
    "precision = TP/(TP+FP) #for the class Positive it would be 171/(171+4)  \n",
    "recall = TP/(TP+FN) #for the class Positive it would be 171(171+29)"
   ]
  },
  {
   "cell_type": "markdown",
   "metadata": {},
   "source": [
    "## Classifying CVAE"
   ]
  },
  {
   "cell_type": "code",
   "execution_count": 26,
   "metadata": {
    "executionInfo": {
     "elapsed": 9,
     "status": "ok",
     "timestamp": 1674502787024,
     "user": {
      "displayName": "Crazy Programmer",
      "userId": "06838130414212290363"
     },
     "user_tz": -60
    },
    "id": "lRFXx6JJTrZo"
   },
   "outputs": [],
   "source": [
    "class Sampling(layers.Layer):\n",
    "    \"\"\"Uses (z_mean, z_log_var) to sample z, the vector encoding a digit.\"\"\"\n",
    "\n",
    "    def call(self, inputs):\n",
    "        z_mean, z_log_var = inputs\n",
    "        batch = tf.shape(z_mean)[0]\n",
    "        dim = tf.shape(z_mean)[1]\n",
    "        epsilon = tf.keras.backend.random_normal(shape=(batch, dim))\n",
    "        return z_mean + tf.exp(0.5 * z_log_var) * epsilon"
   ]
  },
  {
   "cell_type": "code",
   "execution_count": 75,
   "metadata": {},
   "outputs": [
    {
     "name": "stdout",
     "output_type": "stream",
     "text": [
      "Model: \"vae\"\n",
      "__________________________________________________________________________________________________\n",
      " Layer (type)                   Output Shape         Param #     Connected to                     \n",
      "==================================================================================================\n",
      " input_3 (InputLayer)           [(None, 128, 128, 1  0           []                               \n",
      "                                )]                                                                \n",
      "                                                                                                  \n",
      " input_4 (InputLayer)           [(None,)]            0           []                               \n",
      "                                                                                                  \n",
      " encoder (Functional)           [(None, 32),         2255296     ['input_3[0][0]',                \n",
      "                                 (None, 32),                      'input_4[0][0]']                \n",
      "                                 (None, 32)]                                                      \n",
      "                                                                                                  \n",
      " decoder (Functional)           (None, 128, 128, 1)  2828449     ['encoder[0][2]',                \n",
      "                                                                  'input_4[0][0]']                \n",
      "                                                                                                  \n",
      "==================================================================================================\n",
      "Total params: 5,083,745\n",
      "Trainable params: 5,081,825\n",
      "Non-trainable params: 1,920\n",
      "__________________________________________________________________________________________________\n"
     ]
    }
   ],
   "source": [
    "vae = keras.models.load_model(cvae_path, custom_objects={'Sampling': Sampling}, compile=False)\n",
    "vae.summary()"
   ]
  },
  {
   "cell_type": "code",
   "execution_count": 76,
   "metadata": {},
   "outputs": [],
   "source": [
    "decoder = vae.get_layer(\"decoder\")"
   ]
  },
  {
   "cell_type": "code",
   "execution_count": 77,
   "metadata": {},
   "outputs": [
    {
     "name": "stdout",
     "output_type": "stream",
     "text": [
      "13/13 [==============================] - 0s 31ms/step\n"
     ]
    },
    {
     "data": {
      "text/plain": [
       "(400, 128, 128, 1)"
      ]
     },
     "execution_count": 77,
     "metadata": {},
     "output_type": "execute_result"
    }
   ],
   "source": [
    "batch = 400\n",
    "classes = np.hstack([np.zeros((batch//2), dtype=np.uint8), np.ones((batch//2), dtype=np.uint8)])\n",
    "ruido = np.random.randn(batch, latent_dim)\n",
    "gen_imgs = decoder.predict([ruido, classes])\n",
    "gen_imgs.shape"
   ]
  },
  {
   "cell_type": "code",
   "execution_count": 78,
   "metadata": {},
   "outputs": [
    {
     "name": "stdout",
     "output_type": "stream",
     "text": [
      "13/13 [==============================] - 1s 24ms/step - loss: 2.4108 - accuracy: 0.5075\n"
     ]
    },
    {
     "data": {
      "text/plain": [
       "[2.4108078479766846, 0.5074999928474426]"
      ]
     },
     "execution_count": 78,
     "metadata": {},
     "output_type": "execute_result"
    }
   ],
   "source": [
    "classifier.evaluate(gen_imgs, classes)"
   ]
  },
  {
   "cell_type": "code",
   "execution_count": 79,
   "metadata": {},
   "outputs": [
    {
     "name": "stdout",
     "output_type": "stream",
     "text": [
      "13/13 [==============================] - 0s 35ms/step\n"
     ]
    }
   ],
   "source": [
    "y_pred = classifier.predict(gen_imgs)\n",
    "y_pred = np.round(y_pred.squeeze())"
   ]
  },
  {
   "cell_type": "code",
   "execution_count": 80,
   "metadata": {},
   "outputs": [
    {
     "data": {
      "image/png": "[encoded data removed]",
      "text/plain": [
       "<Figure size 640x480 with 2 Axes>"
      ]
     },
     "metadata": {},
     "output_type": "display_data"
    },
    {
     "name": "stdout",
     "output_type": "stream",
     "text": [
      "              precision    recall  f1-score   support\n",
      "\n",
      "    Negative       0.50      0.99      0.67       200\n",
      "    Positive       0.80      0.02      0.04       200\n",
      "\n",
      "    accuracy                           0.51       400\n",
      "   macro avg       0.65      0.51      0.35       400\n",
      "weighted avg       0.65      0.51      0.35       400\n",
      "\n"
     ]
    }
   ],
   "source": [
    "cm = confusion_matrix(classes, y_pred)\n",
    "disp = ConfusionMatrixDisplay(cm, display_labels=target_names)\n",
    "disp.plot()\n",
    "plt.show()\n",
    "\n",
    "print(classification_report(classes, y_pred, target_names=target_names))"
   ]
  },
  {
   "cell_type": "markdown",
   "metadata": {
    "id": "nrOCs6giUFOO"
   },
   "source": [
    "## Classifying CVAE-CGAN"
   ]
  },
  {
   "cell_type": "code",
   "execution_count": 27,
   "metadata": {
    "colab": {
     "base_uri": "https://localhost:8080/"
    },
    "executionInfo": {
     "elapsed": 749,
     "status": "ok",
     "timestamp": 1674502787764,
     "user": {
      "displayName": "Crazy Programmer",
      "userId": "06838130414212290363"
     },
     "user_tz": -60
    },
    "id": "pv6AC-5CTZH1",
    "outputId": "da9b5a0d-75ea-4a12-996b-188bbfe5d867"
   },
   "outputs": [
    {
     "name": "stdout",
     "output_type": "stream",
     "text": [
      "Model: \"vae\"\n",
      "__________________________________________________________________________________________________\n",
      " Layer (type)                   Output Shape         Param #     Connected to                     \n",
      "==================================================================================================\n",
      " input_3 (InputLayer)           [(None, 128, 128, 1  0           []                               \n",
      "                                )]                                                                \n",
      "                                                                                                  \n",
      " input_4 (InputLayer)           [(None,)]            0           []                               \n",
      "                                                                                                  \n",
      " encoder (Functional)           [(None, 32),         2255296     ['input_3[0][0]',                \n",
      "                                 (None, 32),                      'input_4[0][0]']                \n",
      "                                 (None, 32)]                                                      \n",
      "                                                                                                  \n",
      " decoder (Functional)           (None, 128, 128, 1)  2828449     ['encoder[0][2]',                \n",
      "                                                                  'input_4[0][0]']                \n",
      "                                                                                                  \n",
      "==================================================================================================\n",
      "Total params: 5,083,745\n",
      "Trainable params: 5,081,825\n",
      "Non-trainable params: 1,920\n",
      "__________________________________________________________________________________________________\n"
     ]
    }
   ],
   "source": [
    "vae = keras.models.load_model(cvae_cgan_path, custom_objects={'Sampling': Sampling}, compile=False)\n",
    "vae.summary()"
   ]
  },
  {
   "cell_type": "code",
   "execution_count": 28,
   "metadata": {
    "executionInfo": {
     "elapsed": 5,
     "status": "ok",
     "timestamp": 1674502787764,
     "user": {
      "displayName": "Crazy Programmer",
      "userId": "06838130414212290363"
     },
     "user_tz": -60
    },
    "id": "kqZIVCVSTyNB"
   },
   "outputs": [],
   "source": [
    "decoder = vae.get_layer(\"decoder\")\n",
    "#encoder = vae.get_layer(\"encoder\")"
   ]
  },
  {
   "cell_type": "code",
   "execution_count": 29,
   "metadata": {
    "executionInfo": {
     "elapsed": 5,
     "status": "ok",
     "timestamp": 1674502787765,
     "user": {
      "displayName": "Crazy Programmer",
      "userId": "06838130414212290363"
     },
     "user_tz": -60
    },
    "id": "SIljCgaGUpAO"
   },
   "outputs": [],
   "source": [
    "latent_dim = 32"
   ]
  },
  {
   "cell_type": "code",
   "execution_count": 30,
   "metadata": {
    "colab": {
     "base_uri": "https://localhost:8080/"
    },
    "executionInfo": {
     "elapsed": 927,
     "status": "ok",
     "timestamp": 1674502838093,
     "user": {
      "displayName": "Crazy Programmer",
      "userId": "06838130414212290363"
     },
     "user_tz": -60
    },
    "id": "yj59XGQtU5IC",
    "outputId": "af240ae8-ae38-4f26-cde5-3e1066b4a347"
   },
   "outputs": [
    {
     "name": "stdout",
     "output_type": "stream",
     "text": [
      "13/13 [==============================] - 1s 23ms/step\n"
     ]
    },
    {
     "data": {
      "text/plain": [
       "(400, 128, 128, 1)"
      ]
     },
     "execution_count": 30,
     "metadata": {},
     "output_type": "execute_result"
    }
   ],
   "source": [
    "batch = 400\n",
    "classes = np.hstack([np.zeros((batch//2), dtype=np.uint8), np.ones((batch//2), dtype=np.uint8)])\n",
    "ruido = np.random.randn(batch, latent_dim)\n",
    "gen_imgs = decoder.predict([ruido, classes])\n",
    "gen_imgs.shape"
   ]
  },
  {
   "cell_type": "code",
   "execution_count": 38,
   "metadata": {
    "colab": {
     "base_uri": "https://localhost:8080/"
    },
    "executionInfo": {
     "elapsed": 1173,
     "status": "ok",
     "timestamp": 1674502839261,
     "user": {
      "displayName": "Crazy Programmer",
      "userId": "06838130414212290363"
     },
     "user_tz": -60
    },
    "id": "S5Ro2cQFUy4E",
    "outputId": "b4ad12e1-2cf5-49f1-b0d6-7083646a47e3"
   },
   "outputs": [
    {
     "name": "stdout",
     "output_type": "stream",
     "text": [
      "13/13 [==============================] - 1s 25ms/step - loss: 1.7213 - accuracy: 0.6175\n"
     ]
    },
    {
     "data": {
      "text/plain": [
       "[1.7212790250778198, 0.6175000071525574]"
      ]
     },
     "execution_count": 38,
     "metadata": {},
     "output_type": "execute_result"
    }
   ],
   "source": [
    "classifier.evaluate(gen_imgs, classes)"
   ]
  },
  {
   "cell_type": "code",
   "execution_count": 36,
   "metadata": {},
   "outputs": [
    {
     "name": "stdout",
     "output_type": "stream",
     "text": [
      "13/13 [==============================] - 0s 37ms/step\n"
     ]
    }
   ],
   "source": [
    "y_pred = classifier.predict(gen_imgs)\n",
    "y_pred = np.round(y_pred.squeeze())"
   ]
  },
  {
   "cell_type": "code",
   "execution_count": 41,
   "metadata": {},
   "outputs": [
    {
     "data": {
      "image/png": "[encoded data removed]",
      "text/plain": [
       "<Figure size 640x480 with 2 Axes>"
      ]
     },
     "metadata": {},
     "output_type": "display_data"
    },
    {
     "name": "stdout",
     "output_type": "stream",
     "text": [
      "              precision    recall  f1-score   support\n",
      "\n",
      "    Negative       0.57      0.92      0.71       200\n",
      "    Positive       0.80      0.32      0.45       200\n",
      "\n",
      "    accuracy                           0.62       400\n",
      "   macro avg       0.69      0.62      0.58       400\n",
      "weighted avg       0.69      0.62      0.58       400\n",
      "\n"
     ]
    }
   ],
   "source": [
    "cm = confusion_matrix(classes, y_pred)\n",
    "disp = ConfusionMatrixDisplay(cm, display_labels=target_names)\n",
    "disp.plot()\n",
    "plt.show()\n",
    "\n",
    "print(classification_report(classes, y_pred, target_names=target_names))"
   ]
  },
  {
   "cell_type": "markdown",
   "metadata": {},
   "source": [
    "## Classifying VQ-VAE"
   ]
  },
  {
   "cell_type": "code",
   "execution_count": 42,
   "metadata": {},
   "outputs": [],
   "source": [
    "class VectorQuantizer(layers.Layer):\n",
    "    def __init__(self, num_embeddings, embedding_dim, beta=0.25, **kwargs):\n",
    "        super().__init__(**kwargs)\n",
    "        self.embedding_dim = embedding_dim\n",
    "        self.num_embeddings = num_embeddings\n",
    "\n",
    "        # The `beta` parameter is best kept between [0.25, 2] as per the paper.\n",
    "        self.beta = beta\n",
    "\n",
    "        # Initialize the embeddings which we will quantize.\n",
    "        w_init = tf.random_uniform_initializer()\n",
    "        self.embeddings = tf.Variable(\n",
    "            initial_value=w_init(\n",
    "                shape=(self.embedding_dim, self.num_embeddings), dtype=\"float32\"\n",
    "            ),\n",
    "            trainable=True,\n",
    "            name=\"embeddings_vqvae\",\n",
    "        )\n",
    "\n",
    "    def call(self, x):\n",
    "        # Calculate the input shape of the inputs and\n",
    "        # then flatten the inputs keeping `embedding_dim` intact.\n",
    "        input_shape = tf.shape(x)\n",
    "        flattened = tf.reshape(x, [-1, self.embedding_dim])\n",
    "\n",
    "        # Quantization.\n",
    "        encoding_indices = self.get_code_indices(flattened) #aquí calcula el punto más cercano del embedding al x\n",
    "        encodings = tf.one_hot(encoding_indices, self.num_embeddings)\n",
    "        quantized = tf.matmul(encodings, self.embeddings, transpose_b=True)\n",
    "\n",
    "        # Reshape the quantized values back to the original input shape\n",
    "        quantized = tf.reshape(quantized, input_shape)\n",
    "\n",
    "        # Calculate vector quantization loss and add that to the layer. You can learn more\n",
    "        # about adding losses to different layers here:\n",
    "        # https://keras.io/guides/making_new_layers_and_models_via_subclassing/. Check\n",
    "        # the original paper to get a handle on the formulation of the loss function.\n",
    "        commitment_loss = tf.reduce_mean((tf.stop_gradient(quantized) - x) ** 2)\n",
    "        codebook_loss = tf.reduce_mean((quantized - tf.stop_gradient(x)) ** 2)\n",
    "        self.add_loss(self.beta * commitment_loss + codebook_loss)\n",
    "\n",
    "        codebook_indices = tf.reshape(encoding_indices, input_shape[:-1])\n",
    "\n",
    "        # Straight-through estimator.\n",
    "        quantized = x + tf.stop_gradient(quantized - x)\n",
    "        return quantized, codebook_indices\n",
    "\n",
    "    def get_code_indices(self, flattened_inputs):\n",
    "        # Calculate L2-normalized distance between the inputs and the codes.\n",
    "        similarity = tf.matmul(flattened_inputs, self.embeddings)\n",
    "        distances = (\n",
    "            tf.reduce_sum(flattened_inputs ** 2, axis=1, keepdims=True)\n",
    "            + tf.reduce_sum(self.embeddings ** 2, axis=0)\n",
    "            - 2 * similarity\n",
    "        )\n",
    "\n",
    "        # Derive the indices for minimum distances.\n",
    "        encoding_indices = tf.argmin(distances, axis=1)\n",
    "        return encoding_indices\n",
    "    \n",
    "    def quantize_from_priors(self, priors): #is will be used for generation with pixelcnn\n",
    "        priors_ohe = tf.one_hot(priors.astype(\"int32\"), self.num_embeddings).numpy()\n",
    "        quantized = tf.matmul(priors_ohe.astype(\"float32\"), self.embeddings, transpose_b=True)\n",
    "        return np.squeeze(quantized)\n",
    "    \n",
    "    def get_config(self): #Need this part to be able to save in .h5\n",
    "        config = super().get_config() #.copy()\n",
    "        config.update({\n",
    "            'num_embeddings': self.num_embeddings,\n",
    "            'embedding_dim': self.embedding_dim,\n",
    "            'beta': self.beta\n",
    "        })\n",
    "        return config"
   ]
  },
  {
   "cell_type": "code",
   "execution_count": 43,
   "metadata": {},
   "outputs": [
    {
     "name": "stdout",
     "output_type": "stream",
     "text": [
      "Model: \"vq_vae\"\n",
      "_________________________________________________________________\n",
      " Layer (type)                Output Shape              Param #   \n",
      "=================================================================\n",
      " input_11 (InputLayer)       [(None, 128, 128, 1)]     0         \n",
      "                                                                 \n",
      " encoder (Functional)        (None, 32, 32, 8)         1175656   \n",
      "                                                                 \n",
      " vector_quantizer (VectorQua  ((None, 32, 32, 8),      128       \n",
      " ntizer)                      (None, 32, 32))                    \n",
      "                                                                 \n",
      " decoder (Functional)        (None, 128, 128, 1)       1192033   \n",
      "                                                                 \n",
      "=================================================================\n",
      "Total params: 2,367,817\n",
      "Trainable params: 2,365,897\n",
      "Non-trainable params: 1,920\n",
      "_________________________________________________________________\n"
     ]
    }
   ],
   "source": [
    "vq_vae = keras.models.load_model(vq_vae_path, custom_objects={'VectorQuantizer': VectorQuantizer}, compile=False)\n",
    "vq_vae.summary()"
   ]
  },
  {
   "cell_type": "code",
   "execution_count": 44,
   "metadata": {},
   "outputs": [],
   "source": [
    "encoder = vq_vae.get_layer(\"encoder\")\n",
    "quantizer = vq_vae.get_layer(\"vector_quantizer\")\n",
    "decoder = vq_vae.get_layer(\"decoder\")"
   ]
  },
  {
   "cell_type": "code",
   "execution_count": 45,
   "metadata": {},
   "outputs": [],
   "source": [
    "# The first layer is the PixelCNN layer. This layer simply\n",
    "# builds on the 2D convolutional layer, but includes masking.\n",
    "class PixelConvLayer(layers.Layer):\n",
    "    def __init__(self, mask_type, filters, kernel_size=3, activation=None, padding=\"valid\", **kwargs):\n",
    "        super().__init__(**kwargs)\n",
    "        self.mask_type = mask_type\n",
    "        self.filters = filters\n",
    "        self.kernel_size = kernel_size\n",
    "        self.activation = activation\n",
    "        self.padding = padding\n",
    "        self.conv = layers.Conv2D(self.filters, kernel_size=kernel_size, activation=activation, padding=padding)\n",
    "\n",
    "    def build(self, input_shape): #override \n",
    "        # Build the conv2d layer to initialize kernel variables\n",
    "        self.conv.build(input_shape)\n",
    "        # Use the initialized kernel to create the mask\n",
    "        kernel_shape = self.conv.kernel.get_shape()\n",
    "        self.mask = np.zeros(shape=kernel_shape)\n",
    "        self.mask[: kernel_shape[0] // 2, ...] = 1.0\n",
    "        self.mask[kernel_shape[0] // 2, : kernel_shape[1] // 2, ...] = 1.0\n",
    "        if self.mask_type == \"B\":\n",
    "            self.mask[kernel_shape[0] // 2, kernel_shape[1] // 2, ...] = 1.0\n",
    "\n",
    "    def call(self, inputs): #override \n",
    "        self.conv.kernel.assign(self.conv.kernel * self.mask)\n",
    "        return self.conv(inputs)\n",
    "    \n",
    "    #override \n",
    "    def get_config(self): #in order to be able to save and load\n",
    "        config = super().get_config()\n",
    "        config.update({\n",
    "            \"mask_type\": self.mask_type,\n",
    "            \"filters\": self.filters,\n",
    "            \"kernel_size\": self.kernel_size,\n",
    "            \"activation\": self.activation,\n",
    "            \"padding\": self.padding\n",
    "        })\n",
    "        return config\n",
    "\n",
    "\n",
    "# Next, we build our residual block layer.\n",
    "# This is just a normal residual block, but based on the PixelConvLayer.\n",
    "class ResidualBlock(keras.layers.Layer):\n",
    "    def __init__(self, filters, **kwargs):\n",
    "        super().__init__(**kwargs)\n",
    "        self.filters = filters\n",
    "        self.conv1 = keras.layers.Conv2D(\n",
    "            filters=filters, kernel_size=1, activation=\"relu\"\n",
    "        )\n",
    "        self.pixel_conv = PixelConvLayer(\n",
    "            mask_type=\"B\",\n",
    "            filters=filters // 2,\n",
    "            kernel_size=3,\n",
    "            activation=\"relu\",\n",
    "            padding=\"same\",\n",
    "        )\n",
    "        self.conv2 = keras.layers.Conv2D(\n",
    "            filters=filters, kernel_size=1, activation=\"relu\"\n",
    "        )\n",
    "\n",
    "    def call(self, inputs):\n",
    "        x = self.conv1(inputs)\n",
    "        x = self.pixel_conv(x)\n",
    "        x = self.conv2(x)\n",
    "        return keras.layers.add([inputs, x])\n",
    "    \n",
    "    def get_config(self):\n",
    "        config = super().get_config()\n",
    "        config.update({\n",
    "            \"filters\": self.filters,\n",
    "        })\n",
    "        return config"
   ]
  },
  {
   "cell_type": "code",
   "execution_count": 46,
   "metadata": {},
   "outputs": [],
   "source": [
    "pixel_cnn = keras.models.load_model(pixelcnn_model_path, \n",
    "                                    custom_objects={\"PixelConvLayer\": PixelConvLayer, \n",
    "                                                    \"ResidualBlock\":ResidualBlock})"
   ]
  },
  {
   "cell_type": "code",
   "execution_count": 47,
   "metadata": {},
   "outputs": [
    {
     "name": "stdout",
     "output_type": "stream",
     "text": [
      "Model: \"pixel_cnn\"\n",
      "__________________________________________________________________________________________________\n",
      " Layer (type)                   Output Shape         Param #     Connected to                     \n",
      "==================================================================================================\n",
      " input_15 (InputLayer)          [(None,)]            0           []                               \n",
      "                                                                                                  \n",
      " input_14 (InputLayer)          [(None, 32, 32)]     0           []                               \n",
      "                                                                                                  \n",
      " embedding_1 (Embedding)        (None, 1024)         2048        ['input_15[0][0]']               \n",
      "                                                                                                  \n",
      " tf.one_hot_1 (TFOpLambda)      (None, 32, 32, 16)   0           ['input_14[0][0]']               \n",
      "                                                                                                  \n",
      " reshape_1 (Reshape)            (None, 32, 32, 1)    0           ['embedding_1[0][0]']            \n",
      "                                                                                                  \n",
      " pixel_conv_layer_6 (PixelConvL  (None, 32, 32, 128)  100480     ['tf.one_hot_1[0][0]']           \n",
      " ayer)                                                                                            \n",
      "                                                                                                  \n",
      " tf.repeat_1 (TFOpLambda)       (None, 32, 32, 128)  0           ['reshape_1[0][0]']              \n",
      "                                                                                                  \n",
      " concatenate_1 (Concatenate)    (None, 32, 32, 256)  0           ['pixel_conv_layer_6[0][0]',     \n",
      "                                                                  'tf.repeat_1[0][0]']            \n",
      "                                                                                                  \n",
      " residual_block_5 (ResidualBloc  (None, 32, 32, 256)  393856     ['concatenate_1[0][0]']          \n",
      " k)                                                                                               \n",
      "                                                                                                  \n",
      " residual_block_6 (ResidualBloc  (None, 32, 32, 256)  393856     ['residual_block_5[0][0]']       \n",
      " k)                                                                                               \n",
      "                                                                                                  \n",
      " residual_block_7 (ResidualBloc  (None, 32, 32, 256)  393856     ['residual_block_6[0][0]']       \n",
      " k)                                                                                               \n",
      "                                                                                                  \n",
      " residual_block_8 (ResidualBloc  (None, 32, 32, 256)  393856     ['residual_block_7[0][0]']       \n",
      " k)                                                                                               \n",
      "                                                                                                  \n",
      " residual_block_9 (ResidualBloc  (None, 32, 32, 256)  393856     ['residual_block_8[0][0]']       \n",
      " k)                                                                                               \n",
      "                                                                                                  \n",
      " pixel_conv_layer_12 (PixelConv  (None, 32, 32, 256)  65792      ['residual_block_9[0][0]']       \n",
      " Layer)                                                                                           \n",
      "                                                                                                  \n",
      " pixel_conv_layer_13 (PixelConv  (None, 32, 32, 256)  65792      ['pixel_conv_layer_12[0][0]']    \n",
      " Layer)                                                                                           \n",
      "                                                                                                  \n",
      " conv2d_115 (Conv2D)            (None, 32, 32, 16)   4112        ['pixel_conv_layer_13[0][0]']    \n",
      "                                                                                                  \n",
      "==================================================================================================\n",
      "Total params: 2,207,504\n",
      "Trainable params: 2,207,504\n",
      "Non-trainable params: 0\n",
      "__________________________________________________________________________________________________\n"
     ]
    }
   ],
   "source": [
    "pixel_cnn.summary()"
   ]
  },
  {
   "cell_type": "code",
   "execution_count": 48,
   "metadata": {},
   "outputs": [],
   "source": [
    "pixelcnn_input_shape = (32,32)"
   ]
  },
  {
   "cell_type": "code",
   "execution_count": 49,
   "metadata": {},
   "outputs": [
    {
     "name": "stdout",
     "output_type": "stream",
     "text": [
      "WARNING:tensorflow:Please fix your imports. Module tensorflow.python.training.tracking.data_structures has been moved to tensorflow.python.trackable.data_structures. The old module will be deleted in version 2.11.\n"
     ]
    }
   ],
   "source": [
    "# Create a mini sampler model.\n",
    "inputs = layers.Input(shape=pixelcnn_input_shape)\n",
    "inputs_cond = layers.Input(shape=())\n",
    "outputs = pixel_cnn([inputs, inputs_cond], training=False)\n",
    "\n",
    "categorical_layer = tfp.layers.DistributionLambda(tfp.distributions.Categorical)\n",
    "outputs = categorical_layer(outputs)\n",
    "sampler = keras.Model([inputs, inputs_cond], outputs)"
   ]
  },
  {
   "cell_type": "code",
   "execution_count": 50,
   "metadata": {},
   "outputs": [],
   "source": [
    "batch = 400\n",
    "priors = np.zeros(shape=(batch,) + pixelcnn_input_shape)\n",
    "batch, rows, cols = priors.shape"
   ]
  },
  {
   "cell_type": "code",
   "execution_count": 51,
   "metadata": {},
   "outputs": [
    {
     "data": {
      "text/plain": [
       "array([0, 0, 0, 0, 0, 0, 0, 0, 0, 0, 0, 0, 0, 0, 0, 0, 0, 0, 0, 0, 0, 0,\n",
       "       0, 0, 0, 0, 0, 0, 0, 0, 0, 0, 0, 0, 0, 0, 0, 0, 0, 0, 0, 0, 0, 0,\n",
       "       0, 0, 0, 0, 0, 0, 0, 0, 0, 0, 0, 0, 0, 0, 0, 0, 0, 0, 0, 0, 0, 0,\n",
       "       0, 0, 0, 0, 0, 0, 0, 0, 0, 0, 0, 0, 0, 0, 0, 0, 0, 0, 0, 0, 0, 0,\n",
       "       0, 0, 0, 0, 0, 0, 0, 0, 0, 0, 0, 0, 0, 0, 0, 0, 0, 0, 0, 0, 0, 0,\n",
       "       0, 0, 0, 0, 0, 0, 0, 0, 0, 0, 0, 0, 0, 0, 0, 0, 0, 0, 0, 0, 0, 0,\n",
       "       0, 0, 0, 0, 0, 0, 0, 0, 0, 0, 0, 0, 0, 0, 0, 0, 0, 0, 0, 0, 0, 0,\n",
       "       0, 0, 0, 0, 0, 0, 0, 0, 0, 0, 0, 0, 0, 0, 0, 0, 0, 0, 0, 0, 0, 0,\n",
       "       0, 0, 0, 0, 0, 0, 0, 0, 0, 0, 0, 0, 0, 0, 0, 0, 0, 0, 0, 0, 0, 0,\n",
       "       0, 0, 1, 1, 1, 1, 1, 1, 1, 1, 1, 1, 1, 1, 1, 1, 1, 1, 1, 1, 1, 1,\n",
       "       1, 1, 1, 1, 1, 1, 1, 1, 1, 1, 1, 1, 1, 1, 1, 1, 1, 1, 1, 1, 1, 1,\n",
       "       1, 1, 1, 1, 1, 1, 1, 1, 1, 1, 1, 1, 1, 1, 1, 1, 1, 1, 1, 1, 1, 1,\n",
       "       1, 1, 1, 1, 1, 1, 1, 1, 1, 1, 1, 1, 1, 1, 1, 1, 1, 1, 1, 1, 1, 1,\n",
       "       1, 1, 1, 1, 1, 1, 1, 1, 1, 1, 1, 1, 1, 1, 1, 1, 1, 1, 1, 1, 1, 1,\n",
       "       1, 1, 1, 1, 1, 1, 1, 1, 1, 1, 1, 1, 1, 1, 1, 1, 1, 1, 1, 1, 1, 1,\n",
       "       1, 1, 1, 1, 1, 1, 1, 1, 1, 1, 1, 1, 1, 1, 1, 1, 1, 1, 1, 1, 1, 1,\n",
       "       1, 1, 1, 1, 1, 1, 1, 1, 1, 1, 1, 1, 1, 1, 1, 1, 1, 1, 1, 1, 1, 1,\n",
       "       1, 1, 1, 1, 1, 1, 1, 1, 1, 1, 1, 1, 1, 1, 1, 1, 1, 1, 1, 1, 1, 1,\n",
       "       1, 1, 1, 1], dtype=uint8)"
      ]
     },
     "execution_count": 51,
     "metadata": {},
     "output_type": "execute_result"
    }
   ],
   "source": [
    "cond_inp = np.hstack([np.zeros((batch//2), dtype=np.uint8), np.ones((batch//2), dtype=np.uint8)])\n",
    "cond_inp"
   ]
  },
  {
   "cell_type": "code",
   "execution_count": 52,
   "metadata": {},
   "outputs": [
    {
     "name": "stderr",
     "output_type": "stream",
     "text": [
      "100%|██████████████████████████████████████████████████████████████████████████████████| 32/32 [05:10<00:00,  9.70s/it]"
     ]
    },
    {
     "name": "stdout",
     "output_type": "stream",
     "text": [
      "Prior shape: (400, 32, 32)\n"
     ]
    },
    {
     "name": "stderr",
     "output_type": "stream",
     "text": [
      "\n"
     ]
    }
   ],
   "source": [
    "# Iterate over the priors because generation has to be done sequentially pixel by pixel.\n",
    "for row in tqdm(range(rows)):\n",
    "    for col in range(cols):\n",
    "        # Feed the whole array and retrieving the pixel value probabilities for the next\n",
    "        # pixel.\n",
    "        probs = sampler.predict([np.expand_dims(priors,-1), cond_inp], verbose=0)\n",
    "        # Use the probabilities to pick pixel values and append the values to the priors.\n",
    "        probs = np.squeeze(probs)\n",
    "        priors[:, row, col] = probs[:, row, col]\n",
    "\n",
    "print(f\"Prior shape: {priors.shape}\")"
   ]
  },
  {
   "cell_type": "code",
   "execution_count": 53,
   "metadata": {},
   "outputs": [
    {
     "name": "stdout",
     "output_type": "stream",
     "text": [
      "13/13 [==============================] - 1s 31ms/step\n"
     ]
    }
   ],
   "source": [
    "quantized = quantizer.quantize_from_priors(priors)\n",
    "generated_samples = decoder.predict(quantized)"
   ]
  },
  {
   "cell_type": "code",
   "execution_count": 54,
   "metadata": {},
   "outputs": [
    {
     "name": "stdout",
     "output_type": "stream",
     "text": [
      "13/13 [==============================] - 0s 31ms/step - loss: 1.0899 - accuracy: 0.7350\n"
     ]
    },
    {
     "data": {
      "text/plain": [
       "[1.0898854732513428, 0.7350000143051147]"
      ]
     },
     "execution_count": 54,
     "metadata": {},
     "output_type": "execute_result"
    }
   ],
   "source": [
    "classifier.evaluate(generated_samples, cond_inp)"
   ]
  },
  {
   "cell_type": "code",
   "execution_count": 57,
   "metadata": {},
   "outputs": [
    {
     "name": "stdout",
     "output_type": "stream",
     "text": [
      "13/13 [==============================] - 0s 34ms/step\n"
     ]
    }
   ],
   "source": [
    "y_pred = classifier.predict(generated_samples)\n",
    "y_pred = np.round(y_pred.squeeze())"
   ]
  },
  {
   "cell_type": "code",
   "execution_count": 58,
   "metadata": {},
   "outputs": [
    {
     "data": {
      "image/png": "[encoded data removed]",
      "text/plain": [
       "<Figure size 640x480 with 2 Axes>"
      ]
     },
     "metadata": {},
     "output_type": "display_data"
    },
    {
     "name": "stdout",
     "output_type": "stream",
     "text": [
      "              precision    recall  f1-score   support\n",
      "\n",
      "    Negative       0.69      0.86      0.77       200\n",
      "    Positive       0.82      0.60      0.70       200\n",
      "\n",
      "    accuracy                           0.73       400\n",
      "   macro avg       0.75      0.73      0.73       400\n",
      "weighted avg       0.75      0.73      0.73       400\n",
      "\n"
     ]
    }
   ],
   "source": [
    "cm = confusion_matrix(cond_inp, y_pred)\n",
    "disp = ConfusionMatrixDisplay(cm, display_labels=target_names)\n",
    "disp.plot()\n",
    "plt.show()\n",
    "\n",
    "print(classification_report(cond_inp, y_pred, target_names=target_names))"
   ]
  },
  {
   "cell_type": "markdown",
   "metadata": {},
   "source": [
    "## Classifying VQ-VAE2"
   ]
  },
  {
   "cell_type": "code",
   "execution_count": 59,
   "metadata": {},
   "outputs": [
    {
     "name": "stdout",
     "output_type": "stream",
     "text": [
      "Model: \"vq_vae\"\n",
      "__________________________________________________________________________________________________\n",
      " Layer (type)                   Output Shape         Param #     Connected to                     \n",
      "==================================================================================================\n",
      " input_22 (InputLayer)          [(None, 128, 128, 1  0           []                               \n",
      "                                )]                                                                \n",
      "                                                                                                  \n",
      " encoder_b (Functional)         (None, 32, 32, 8)    556488      ['input_22[0][0]']               \n",
      "                                                                                                  \n",
      " encoder_t (Functional)         (None, 16, 16, 8)    560520      ['encoder_b[0][0]']              \n",
      "                                                                                                  \n",
      " vector_quantizer_t (VectorQuan  ((None, 16, 16, 8),  128        ['encoder_t[0][0]']              \n",
      " tizer)                          (None, 16, 16))                                                  \n",
      "                                                                                                  \n",
      " decoder_t (Functional)         (None, 32, 32, 8)    568712      ['vector_quantizer_t[0][0]']     \n",
      "                                                                                                  \n",
      " concatenate_4 (Concatenate)    (None, 32, 32, 16)   0           ['encoder_b[0][0]',              \n",
      "                                                                  'decoder_t[0][0]']              \n",
      "                                                                                                  \n",
      " vector_quantizer_b (VectorQuan  ((None, 32, 32, 16)  256        ['concatenate_4[0][0]']          \n",
      " tizer)                         , (None, 32, 32))                                                 \n",
      "                                                                                                  \n",
      " up_sampling2d_14 (UpSampling2D  (None, 32, 32, 8)   0           ['vector_quantizer_t[0][0]']     \n",
      " )                                                                                                \n",
      "                                                                                                  \n",
      " concatenate_5 (Concatenate)    (None, 32, 32, 24)   0           ['vector_quantizer_b[0][0]',     \n",
      "                                                                  'up_sampling2d_14[0][0]']       \n",
      "                                                                                                  \n",
      " decoder_b (Functional)         (None, 128, 128, 1)  583105      ['concatenate_5[0][0]']          \n",
      "                                                                                                  \n",
      "==================================================================================================\n",
      "Total params: 2,269,209\n",
      "Trainable params: 2,266,649\n",
      "Non-trainable params: 2,560\n",
      "__________________________________________________________________________________________________\n"
     ]
    }
   ],
   "source": [
    "vq_vae2 = keras.models.load_model(vq_vae2_path, custom_objects={'VectorQuantizer': VectorQuantizer}, compile=False)\n",
    "vq_vae2.summary()"
   ]
  },
  {
   "cell_type": "code",
   "execution_count": 60,
   "metadata": {},
   "outputs": [],
   "source": [
    "class MaskedConv2D(keras.layers.Layer):\n",
    "    def __init__(self,mask_type,ver_or_hor,filters,kernel_size,**kwargs):\n",
    "        super().__init__(**kwargs)\n",
    "\n",
    "        assert mask_type in ['A', 'B']\n",
    "        assert ver_or_hor in [\"V\", \"H\"]\n",
    "        self.mask_type = mask_type\n",
    "        self.ver_or_hor = ver_or_hor\n",
    "        \n",
    "        if ver_or_hor == 'H':  # 1XN mask\n",
    "            self.pad = (0, (kernel_size - 1) // 2)\n",
    "            ksz = (1, kernel_size)\n",
    "\n",
    "        else:  # NxN mask vertical\n",
    "            ksz = kernel_size\n",
    "            self.pad = (kernel_size - 1) // 2\n",
    "\n",
    "        self.filters = filters\n",
    "        self.kernel_size = kernel_size\n",
    "        self.conv = layers.Conv2D(filters,\n",
    "                                  ksz,\n",
    "                                  padding=\"valid\")\n",
    "\n",
    "    def build(self, input_shape):\n",
    "        kernel_h = self.kernel_size\n",
    "        kernel_w = self.kernel_size\n",
    "        self.conv.build(input_shape)\n",
    "\n",
    "        mask = np.zeros(self.conv.kernel.get_shape(), dtype=np.float32)\n",
    "\n",
    "        if self.mask_type == \"A\":\n",
    "            if self.ver_or_hor == \"V\":\n",
    "                mask[:kernel_h // 2, ...] = 1\n",
    "            else:\n",
    "                mask[:, :kernel_w // 2, ...] = 1\n",
    "        else: #B\n",
    "            if self.ver_or_hor == \"V\":\n",
    "                mask[:kernel_h // 2 + 1, ...] = 1\n",
    "            else:\n",
    "                mask[:, :kernel_w // 2 +1,...] = 1\n",
    "        \n",
    "        self.mask = tf.constant(mask, name='mask')\n",
    "\n",
    "    def call(self, inputs):\n",
    "        self.conv.kernel.assign(self.conv.kernel * self.mask)\n",
    "        x = self.conv(inputs)\n",
    "        return layers.ZeroPadding2D(self.pad)(x)\n",
    "\n",
    "    def get_config(self): #Need this part to be able to save in .h5\n",
    "        config = super().get_config() #.copy()\n",
    "        config.update({\n",
    "            'mask_type': self.mask_type,\n",
    "            'ver_or_hor': self.ver_or_hor,\n",
    "            'filters': self.filters,\n",
    "            \"kernel_size\": self.kernel_size\n",
    "        })\n",
    "        return config\n",
    "\n",
    "class GatedMaskedConv2d(layers.Layer):\n",
    "    def __init__(self, mask_type, filters, kernel_size, **kwargs):\n",
    "        super().__init__(**kwargs)\n",
    "\n",
    "        self.mask_type = mask_type\n",
    "        self.filters = filters\n",
    "        self.kernel_size = kernel_size\n",
    "        self.vertical_conv = MaskedConv2D(mask_type=mask_type, ver_or_hor=\"V\",\n",
    "                                        filters=2 * filters,\n",
    "                                        kernel_size=kernel_size)\n",
    "\n",
    "        self.horizontal_conv = MaskedConv2D(mask_type=mask_type, ver_or_hor=\"H\",\n",
    "                                            filters=2 * filters,\n",
    "                                            kernel_size=kernel_size)\n",
    "\n",
    "        self.v_to_h_conv = keras.layers.Conv2D(filters=2 * filters, kernel_size=1)\n",
    "\n",
    "        self.horizontal_output = keras.layers.Conv2D(filters=filters, kernel_size=1)\n",
    "\n",
    "    def _gate(self, x):\n",
    "        tanh_preactivation, sigmoid_preactivation = tf.split(x, 2, axis=-1)\n",
    "        return tf.nn.tanh(tanh_preactivation) * tf.nn.sigmoid(sigmoid_preactivation)\n",
    "\n",
    "    def call(self, input_tensor):\n",
    "        v, h = input_tensor\n",
    "\n",
    "        vertical_preactivation = self.vertical_conv(v)\n",
    "        horizontal_preactivation = self.horizontal_conv(h)\n",
    "\n",
    "        v_to_h = self.v_to_h_conv(vertical_preactivation)\n",
    "    \n",
    "        v_out = self._gate(vertical_preactivation)\n",
    "\n",
    "        horizontal_preactivation = horizontal_preactivation + v_to_h\n",
    "        \n",
    "        h_activated = self._gate(horizontal_preactivation)\n",
    "        h_activated = self.horizontal_output(h_activated)\n",
    "\n",
    "        if self.mask_type == 'A':\n",
    "            h_out = h_activated\n",
    "        elif self.mask_type == 'B':\n",
    "            h_out = h + h_activated\n",
    "\n",
    "        return v_out, h_out\n",
    "\n",
    "    def get_config(self): #Need this part to be able to save in .h5\n",
    "        config = super().get_config() #.copy()\n",
    "        config.update({\n",
    "            'mask_type': self.mask_type,\n",
    "            'filters': self.filters,\n",
    "            \"kernel_size\": self.kernel_size\n",
    "        })\n",
    "        return config"
   ]
  },
  {
   "cell_type": "code",
   "execution_count": 62,
   "metadata": {},
   "outputs": [],
   "source": [
    "pixel_cnn_t = keras.models.load_model(pixelcnnt_model_path, \n",
    "                                    custom_objects={\"MaskedConv2D\": MaskedConv2D, \n",
    "                                                    \"GatedMaskedConv2d\": GatedMaskedConv2d})\n",
    "\n",
    "pixel_cnn_b = keras.models.load_model(pixelcnnb_model_path_i, \n",
    "                                    custom_objects={\"MaskedConv2D\": MaskedConv2D, \n",
    "                                                    \"GatedMaskedConv2d\": GatedMaskedConv2d})"
   ]
  },
  {
   "cell_type": "code",
   "execution_count": 63,
   "metadata": {},
   "outputs": [],
   "source": [
    "encoder_t = vq_vae2.get_layer(\"encoder_t\")\n",
    "quantizer_t = vq_vae2.get_layer(\"vector_quantizer_t\")\n",
    "decoder_t = vq_vae2.get_layer(\"decoder_t\")\n",
    "encoder_b = vq_vae2.get_layer(\"encoder_b\")\n",
    "quantizer_b = vq_vae2.get_layer(\"vector_quantizer_b\")\n",
    "decoder_b = vq_vae2.get_layer(\"decoder_b\")"
   ]
  },
  {
   "cell_type": "code",
   "execution_count": 64,
   "metadata": {},
   "outputs": [],
   "source": [
    "batch = 400\n",
    "cond_inp = np.hstack([np.zeros((batch//2), dtype=np.uint8), np.ones((batch//2), dtype=np.uint8)])"
   ]
  },
  {
   "cell_type": "code",
   "execution_count": 65,
   "metadata": {},
   "outputs": [],
   "source": [
    "def get_t_sampler(input_shape=(16,16)):\n",
    "    # Create a mini sampler model.\n",
    "    inputs = layers.Input(shape=input_shape)\n",
    "    inputs_cond = layers.Input(shape=())\n",
    "    outputs = pixel_cnn_t([inputs, inputs_cond], training=False)\n",
    "    categorical_layer = tfp.layers.DistributionLambda(tfp.distributions.Categorical)\n",
    "    outputs = categorical_layer(outputs)\n",
    "    return keras.Model([inputs, inputs_cond], outputs)\n",
    "t_sampler = get_t_sampler()"
   ]
  },
  {
   "cell_type": "code",
   "execution_count": 66,
   "metadata": {},
   "outputs": [
    {
     "name": "stderr",
     "output_type": "stream",
     "text": [
      "100%|██████████████████████████████████████████████████████████████████████████████████| 16/16 [00:38<00:00,  2.42s/it]\n"
     ]
    }
   ],
   "source": [
    "def get_t_sample(sampler, labels):\n",
    "    # Create an empty array of priors.\n",
    "    batch = len(labels)\n",
    "    input_shape=t_sampler.output.shape[1:]\n",
    "    priors = np.zeros(shape=(batch,) + (input_shape))\n",
    "    priors = np.squeeze(priors)\n",
    "    batch, rows, cols = priors.shape\n",
    "    cond_inp = labels\n",
    "    # Iterate over the priors because generation has to be done sequentially pixel by pixel.\n",
    "    for row in tqdm(range(rows)):\n",
    "        for col in range(cols):\n",
    "            # Feed the whole array and retrieving the pixel value probabilities for the next\n",
    "            # pixel.\n",
    "            probs = sampler.predict([np.expand_dims(priors,-1), cond_inp], verbose=0)\n",
    "            # Use the probabilities to pick pixel values and append the values to the priors.\n",
    "            probs = np.squeeze(probs)\n",
    "            priors[:, row, col] = probs[:, row, col]\n",
    "    return priors\n",
    "sampled_t = get_t_sample(t_sampler, cond_inp)"
   ]
  },
  {
   "cell_type": "code",
   "execution_count": 67,
   "metadata": {},
   "outputs": [],
   "source": [
    "# def get_b_sampler(input_shape=(32,32), cond_input_shape=(16,16)):\n",
    "#     # Create a mini sampler model.\n",
    "#     inputs = layers.Input(shape=input_shape)\n",
    "#     inputs_cond = layers.Input(shape=cond_input_shape)\n",
    "#     outputs = pixel_cnn_b([inputs, inputs_cond], training=False)\n",
    "#     categorical_layer = tfp.layers.DistributionLambda(tfp.distributions.Categorical)\n",
    "#     outputs = categorical_layer(outputs)\n",
    "#     return keras.Model([inputs, inputs_cond], outputs)\n",
    "# sampler_b = get_b_sampler()\n",
    "def get_b_sampler(input_shape=(32,32), cond_input_shape=(16,16)):\n",
    "    # Create a mini sampler model.\n",
    "    inputs = layers.Input(shape=input_shape)\n",
    "    inputs_cond = layers.Input(shape=cond_input_shape)\n",
    "    inputs_label = layers.Input(shape=())\n",
    "    outputs = pixel_cnn_b([inputs, inputs_cond, inputs_label], training=False)\n",
    "    categorical_layer = tfp.layers.DistributionLambda(tfp.distributions.Categorical)\n",
    "    outputs = categorical_layer(outputs)\n",
    "    return keras.Model([inputs, inputs_cond, inputs_label], outputs)\n",
    "sampler_b = get_b_sampler()"
   ]
  },
  {
   "cell_type": "code",
   "execution_count": 69,
   "metadata": {},
   "outputs": [
    {
     "name": "stderr",
     "output_type": "stream",
     "text": [
      "100%|██████████████████████████████████████████████████████████████████████████████████| 32/32 [04:43<00:00,  8.86s/it]\n"
     ]
    }
   ],
   "source": [
    "# def get_b_sample(sampler, cond_inp, batch=5):\n",
    "#     # Create an empty array of priors.\n",
    "#     input_shape=sampler.output.shape[1:]\n",
    "#     priors = np.zeros(shape=(batch,) + (input_shape))\n",
    "#     priors = np.squeeze(priors)\n",
    "#     batch, rows, cols = priors.shape\n",
    "    \n",
    "#     # Iterate over the priors because generation has to be done sequentially pixel by pixel.\n",
    "#     for row in tqdm(range(rows)):\n",
    "#         for col in range(cols):\n",
    "#             # Feed the whole array and retrieving the pixel value probabilities for the next\n",
    "#             # pixel.\n",
    "#             probs = sampler.predict([np.expand_dims(priors,-1), cond_inp], verbose=0)\n",
    "#             # Use the probabilities to pick pixel values and append the values to the priors.\n",
    "#             probs = np.squeeze(probs)\n",
    "#             priors[:, row, col] = probs[:, row, col]\n",
    "#     return priors\n",
    "\n",
    "# sampled_b = get_b_sample(sampler_b, sampled_t, batch=batch)\n",
    "def get_b_sample(sampler, cond_inp, label_inp, batch=5):\n",
    "    # Create an empty array of priors.\n",
    "    input_shape=sampler.output.shape[1:]\n",
    "    priors = np.zeros(shape=(batch,) + (input_shape))\n",
    "    priors = np.squeeze(priors)\n",
    "    batch, rows, cols = priors.shape\n",
    "    \n",
    "    # Iterate over the priors because generation has to be done sequentially pixel by pixel.\n",
    "    for row in tqdm(range(rows)):\n",
    "        for col in range(cols):\n",
    "            # Feed the whole array and retrieving the pixel value probabilities for the next\n",
    "            # pixel.\n",
    "            probs = sampler.predict([np.expand_dims(priors,-1), cond_inp, label_inp], verbose=0)\n",
    "            # Use the probabilities to pick pixel values and append the values to the priors.\n",
    "            probs = np.squeeze(probs)\n",
    "            priors[:, row, col] = probs[:, row, col]\n",
    "    return priors\n",
    "\n",
    "sampled_b = get_b_sample(sampler_b, sampled_t, cond_inp, batch=batch)"
   ]
  },
  {
   "cell_type": "code",
   "execution_count": 70,
   "metadata": {},
   "outputs": [
    {
     "name": "stdout",
     "output_type": "stream",
     "text": [
      "13/13 [==============================] - 1s 28ms/step\n"
     ]
    }
   ],
   "source": [
    "quantized_t = quantizer_t.quantize_from_priors(sampled_t)\n",
    "quantized_b = quantizer_b.quantize_from_priors(sampled_b)\n",
    "quantized_t = layers.UpSampling2D(size=(2, 2))(quantized_t)\n",
    "quantized = layers.Concatenate()([quantized_b, quantized_t])\n",
    "generated_samples = decoder_b.predict(quantized)"
   ]
  },
  {
   "cell_type": "code",
   "execution_count": 71,
   "metadata": {},
   "outputs": [
    {
     "name": "stdout",
     "output_type": "stream",
     "text": [
      "13/13 [==============================] - 0s 20ms/step - loss: 0.7323 - accuracy: 0.7900\n"
     ]
    },
    {
     "data": {
      "text/plain": [
       "[0.7322802543640137, 0.7900000214576721]"
      ]
     },
     "execution_count": 71,
     "metadata": {},
     "output_type": "execute_result"
    }
   ],
   "source": [
    "classifier.evaluate(generated_samples, cond_inp)"
   ]
  },
  {
   "cell_type": "code",
   "execution_count": 72,
   "metadata": {},
   "outputs": [
    {
     "name": "stdout",
     "output_type": "stream",
     "text": [
      "13/13 [==============================] - 1s 44ms/step\n"
     ]
    }
   ],
   "source": [
    "y_pred = classifier.predict(generated_samples)\n",
    "y_pred = np.round(y_pred.squeeze())"
   ]
  },
  {
   "cell_type": "code",
   "execution_count": 73,
   "metadata": {},
   "outputs": [
    {
     "data": {
      "image/png": "[encoded data removed]",
      "text/plain": [
       "<Figure size 640x480 with 2 Axes>"
      ]
     },
     "metadata": {},
     "output_type": "display_data"
    },
    {
     "name": "stdout",
     "output_type": "stream",
     "text": [
      "              precision    recall  f1-score   support\n",
      "\n",
      "    Negative       0.82      0.74      0.78       200\n",
      "    Positive       0.77      0.83      0.80       200\n",
      "\n",
      "    accuracy                           0.79       400\n",
      "   macro avg       0.79      0.79      0.79       400\n",
      "weighted avg       0.79      0.79      0.79       400\n",
      "\n"
     ]
    }
   ],
   "source": [
    "cm = confusion_matrix(cond_inp, y_pred)\n",
    "disp = ConfusionMatrixDisplay(cm, display_labels=target_names)\n",
    "disp.plot()\n",
    "plt.show()\n",
    "\n",
    "print(classification_report(cond_inp, y_pred, target_names=target_names))"
   ]
  },
  {
   "cell_type": "code",
   "execution_count": null,
   "metadata": {},
   "outputs": [],
   "source": []
  }
 ],
 "metadata": {
  "accelerator": "GPU",
  "colab": {
   "authorship_tag": "ABX9TyM38+7ej1VPJWYQ1aS/l1MM",
   "mount_file_id": "13EnOD7_ua_hf62goWwrvvHpxBvC_Qy5g",
   "provenance": []
  },
  "gpuClass": "standard",
  "kernelspec": {
   "display_name": "Python 3 (ipykernel)",
   "language": "python",
   "name": "python3"
  },
  "language_info": {
   "codemirror_mode": {
    "name": "ipython",
    "version": 3
   },
   "file_extension": ".py",
   "mimetype": "text/x-python",
   "name": "python",
   "nbconvert_exporter": "python",
   "pygments_lexer": "ipython3",
   "version": "3.8.15"
  },
  "toc": {
   "base_numbering": 1,
   "nav_menu": {},
   "number_sections": true,
   "sideBar": true,
   "skip_h1_title": false,
   "title_cell": "Table of Contents",
   "title_sidebar": "Contents",
   "toc_cell": false,
   "toc_position": {},
   "toc_section_display": true,
   "toc_window_display": false
  },
  "varInspector": {
   "cols": {
    "lenName": 16,
    "lenType": 16,
    "lenVar": 40
   },
   "kernels_config": {
    "python": {
     "delete_cmd_postfix": "",
     "delete_cmd_prefix": "del ",
     "library": "var_list.py",
     "varRefreshCmd": "print(var_dic_list())"
    },
    "r": {
     "delete_cmd_postfix": ") ",
     "delete_cmd_prefix": "rm(",
     "library": "var_list.r",
     "varRefreshCmd": "cat(var_dic_list()) "
    }
   },
   "types_to_exclude": [
    "module",
    "function",
    "builtin_function_or_method",
    "instance",
    "_Feature"
   ],
   "window_display": false
  }
 },
 "nbformat": 4,
 "nbformat_minor": 1
}
