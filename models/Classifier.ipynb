{
 "cells": [
  {
   "cell_type": "code",
   "execution_count": 1,
   "metadata": {
    "executionInfo": {
     "elapsed": 2346,
     "status": "ok",
     "timestamp": 1674501722682,
     "user": {
      "displayName": "Crazy Programmer",
      "userId": "06838130414212290363"
     },
     "user_tz": -60
    },
    "id": "5GsEnLw1GcxD"
   },
   "outputs": [],
   "source": [
    "import numpy as np\n",
    "import matplotlib.pyplot as plt\n",
    "from tensorflow import keras\n",
    "from tensorflow.keras import layers\n",
    "import tensorflow as tf\n",
    "tf.keras.utils.set_random_seed(3)\n",
    "from tqdm import tqdm\n",
    "from tensorflow.keras.utils import plot_model\n",
    "import time"
   ]
  },
  {
   "cell_type": "code",
   "execution_count": 2,
   "metadata": {
    "executionInfo": {
     "elapsed": 4,
     "status": "ok",
     "timestamp": 1674501722682,
     "user": {
      "displayName": "Crazy Programmer",
      "userId": "06838130414212290363"
     },
     "user_tz": -60
    },
    "id": "Cfz_3gCPM0am"
   },
   "outputs": [],
   "source": [
    "import gc"
   ]
  },
  {
   "cell_type": "markdown",
   "metadata": {
    "id": "mdej7R3qGqQM"
   },
   "source": [
    "# Data"
   ]
  },
  {
   "cell_type": "code",
   "execution_count": 3,
   "metadata": {
    "executionInfo": {
     "elapsed": 4,
     "status": "ok",
     "timestamp": 1674501722683,
     "user": {
      "displayName": "Crazy Programmer",
      "userId": "06838130414212290363"
     },
     "user_tz": -60
    },
    "id": "T_RvyIc9GoFl"
   },
   "outputs": [],
   "source": [
    "BASE_PATH = \"\"#\"/content/drive/MyDrive/Cursos/TFM_AI/TFM/aplicacion/\"\n",
    "train_path = BASE_PATH + \"data/train.npz\"\n",
    "test_path = BASE_PATH + \"data/test.npz\"\n",
    "classifier_path = BASE_PATH + \"models/classifier.h5\"\n",
    "cvae_cgan_path = BASE_PATH + \"models/cvae-cgan_no_noise.h5\""
   ]
  },
  {
   "cell_type": "code",
   "execution_count": 4,
   "metadata": {
    "colab": {
     "base_uri": "https://localhost:8080/"
    },
    "executionInfo": {
     "elapsed": 2242,
     "status": "ok",
     "timestamp": 1674501724921,
     "user": {
      "displayName": "Crazy Programmer",
      "userId": "06838130414212290363"
     },
     "user_tz": -60
    },
    "id": "LSkyGijdBkrp",
    "outputId": "33c8b48e-93e4-469b-d37f-45d165c6540a"
   },
   "outputs": [],
   "source": [
    "# from google.colab import drive\n",
    "# drive.mount('/content/drive')"
   ]
  },
  {
   "cell_type": "code",
   "execution_count": 5,
   "metadata": {
    "colab": {
     "base_uri": "https://localhost:8080/"
    },
    "executionInfo": {
     "elapsed": 397,
     "status": "ok",
     "timestamp": 1674501725315,
     "user": {
      "displayName": "Crazy Programmer",
      "userId": "06838130414212290363"
     },
     "user_tz": -60
    },
    "id": "WBArY6JzG5ff",
    "outputId": "aac03ba3-56fe-49c6-d75d-c0717fbd16b5"
   },
   "outputs": [
    {
     "data": {
      "text/plain": [
       "((10000, 128, 128, 1), (10000,))"
      ]
     },
     "execution_count": 5,
     "metadata": {},
     "output_type": "execute_result"
    }
   ],
   "source": [
    "train_data = np.load(train_path)\n",
    "X_train = train_data[\"arr_0\"]\n",
    "y_train = train_data[\"arr_1\"]\n",
    "X_train.shape, y_train.shape"
   ]
  },
  {
   "cell_type": "code",
   "execution_count": 6,
   "metadata": {
    "colab": {
     "base_uri": "https://localhost:8080/"
    },
    "executionInfo": {
     "elapsed": 5,
     "status": "ok",
     "timestamp": 1674501725316,
     "user": {
      "displayName": "Crazy Programmer",
      "userId": "06838130414212290363"
     },
     "user_tz": -60
    },
    "id": "C50XxtCtG_QN",
    "outputId": "57f5621b-04bf-4af9-ce51-463936356ad6"
   },
   "outputs": [
    {
     "data": {
      "text/plain": [
       "((400, 128, 128, 1), (400,))"
      ]
     },
     "execution_count": 6,
     "metadata": {},
     "output_type": "execute_result"
    }
   ],
   "source": [
    "test_data = np.load(test_path)\n",
    "X_test = test_data[\"arr_0\"]\n",
    "y_test = test_data[\"arr_1\"]\n",
    "X_test.shape, y_test.shape"
   ]
  },
  {
   "cell_type": "code",
   "execution_count": 7,
   "metadata": {
    "executionInfo": {
     "elapsed": 821,
     "status": "ok",
     "timestamp": 1674501726135,
     "user": {
      "displayName": "Crazy Programmer",
      "userId": "06838130414212290363"
     },
     "user_tz": -60
    },
    "id": "oeHL1o13HAis"
   },
   "outputs": [],
   "source": [
    "X_train = X_train / 255.\n",
    "X_test = X_test / 255."
   ]
  },
  {
   "cell_type": "markdown",
   "metadata": {
    "id": "3PkFNy1FHCdh"
   },
   "source": [
    "# Classifier"
   ]
  },
  {
   "cell_type": "code",
   "execution_count": 8,
   "metadata": {
    "colab": {
     "base_uri": "https://localhost:8080/"
    },
    "executionInfo": {
     "elapsed": 5,
     "status": "ok",
     "timestamp": 1674501726136,
     "user": {
      "displayName": "Crazy Programmer",
      "userId": "06838130414212290363"
     },
     "user_tz": -60
    },
    "id": "l4w7zCkEHdbc",
    "outputId": "a1e2b0d2-d0cc-44df-acab-f8246f771912"
   },
   "outputs": [
    {
     "data": {
      "text/plain": [
       "(128, 128, 1)"
      ]
     },
     "execution_count": 8,
     "metadata": {},
     "output_type": "execute_result"
    }
   ],
   "source": [
    "images_shape = X_test.shape[1:]\n",
    "images_shape"
   ]
  },
  {
   "cell_type": "code",
   "execution_count": 9,
   "metadata": {
    "executionInfo": {
     "elapsed": 5424,
     "status": "ok",
     "timestamp": 1674501731557,
     "user": {
      "displayName": "Crazy Programmer",
      "userId": "06838130414212290363"
     },
     "user_tz": -60
    },
    "id": "TkKZTjUANJ1s"
   },
   "outputs": [],
   "source": [
    "base_model = keras.applications.ResNet50V2(input_shape=(128,128,3), include_top=False)"
   ]
  },
  {
   "cell_type": "code",
   "execution_count": 10,
   "metadata": {
    "colab": {
     "base_uri": "https://localhost:8080/"
    },
    "executionInfo": {
     "elapsed": 638,
     "status": "ok",
     "timestamp": 1674501732184,
     "user": {
      "displayName": "Crazy Programmer",
      "userId": "06838130414212290363"
     },
     "user_tz": -60
    },
    "id": "pdRjNG-GHB-n",
    "outputId": "62ba179d-373d-415a-d0cb-3e209759eb9d"
   },
   "outputs": [
    {
     "name": "stdout",
     "output_type": "stream",
     "text": [
      "Model: \"model\"\n",
      "_________________________________________________________________\n",
      " Layer (type)                Output Shape              Param #   \n",
      "=================================================================\n",
      " input_2 (InputLayer)        [(None, 128, 128, 1)]     0         \n",
      "                                                                 \n",
      " conv2d (Conv2D)             (None, 128, 128, 3)       30        \n",
      "                                                                 \n",
      " resnet50v2 (Functional)     (None, 4, 4, 2048)        23564800  \n",
      "                                                                 \n",
      " global_max_pooling2d (Globa  (None, 2048)             0         \n",
      " lMaxPooling2D)                                                  \n",
      "                                                                 \n",
      " dropout (Dropout)           (None, 2048)              0         \n",
      "                                                                 \n",
      " dense (Dense)               (None, 256)               524544    \n",
      "                                                                 \n",
      " dropout_1 (Dropout)         (None, 256)               0         \n",
      "                                                                 \n",
      " dense_1 (Dense)             (None, 128)               32896     \n",
      "                                                                 \n",
      " dense_2 (Dense)             (None, 1)                 129       \n",
      "                                                                 \n",
      "=================================================================\n",
      "Total params: 24,122,399\n",
      "Trainable params: 24,076,959\n",
      "Non-trainable params: 45,440\n",
      "_________________________________________________________________\n"
     ]
    }
   ],
   "source": [
    "classifier_inputs = keras.Input(shape=images_shape)\n",
    "x = layers.Conv2D(3, (3,3), activation=\"relu\", padding=\"same\")(classifier_inputs)\n",
    "x = base_model(x)\n",
    "x = layers.GlobalMaxPool2D()(x)\n",
    "\n",
    "x = layers.Dropout(0.5)(x)\n",
    "x = layers.Dense(256, activation=\"relu\", kernel_regularizer=keras.regularizers.l2(0.01))(x)\n",
    "x = layers.Dropout(0.5)(x)\n",
    "x = layers.Dense(128, activation=\"relu\", kernel_regularizer=keras.regularizers.l2(0.01))(x)\n",
    "\n",
    "classifier_output = layers.Dense(1, activation=\"sigmoid\")(x)\n",
    "\n",
    "classifier = keras.Model(classifier_inputs, classifier_output)\n",
    "classifier.compile(loss='binary_crossentropy', optimizer=keras.optimizers.Adam(0.001), metrics=['accuracy'])\n",
    "classifier.summary()"
   ]
  },
  {
   "cell_type": "code",
   "execution_count": 11,
   "metadata": {
    "executionInfo": {
     "elapsed": 335,
     "status": "ok",
     "timestamp": 1674501732517,
     "user": {
      "displayName": "Crazy Programmer",
      "userId": "06838130414212290363"
     },
     "user_tz": -60
    },
    "id": "e3jVMZXdHbbY"
   },
   "outputs": [],
   "source": [
    "early_stop = keras.callbacks.EarlyStopping(monitor=\"val_loss\", min_delta=0.1, patience=15, restore_best_weights=True)\n",
    "reduce_lr = keras.callbacks.ReduceLROnPlateau(monitor='val_loss', factor=0.2, patience=5, min_lr=1e-5)"
   ]
  },
  {
   "cell_type": "code",
   "execution_count": 12,
   "metadata": {
    "executionInfo": {
     "elapsed": 2,
     "status": "ok",
     "timestamp": 1674501732518,
     "user": {
      "displayName": "Crazy Programmer",
      "userId": "06838130414212290363"
     },
     "user_tz": -60
    },
    "id": "LiHxUTX9M2OA"
   },
   "outputs": [],
   "source": [
    "gc.collect()\n",
    "keras.backend.clear_session()"
   ]
  },
  {
   "cell_type": "code",
   "execution_count": 13,
   "metadata": {
    "colab": {
     "base_uri": "https://localhost:8080/"
    },
    "executionInfo": {
     "elapsed": 1049834,
     "status": "ok",
     "timestamp": 1674502782350,
     "user": {
      "displayName": "Crazy Programmer",
      "userId": "06838130414212290363"
     },
     "user_tz": -60
    },
    "id": "RfHx6WtmIYOk",
    "outputId": "8b453090-66ac-4c40-cf1e-ce8d301ee697"
   },
   "outputs": [
    {
     "name": "stdout",
     "output_type": "stream",
     "text": [
      "Epoch 1/30\n",
      "282/282 [==============================] - 29s 79ms/step - loss: 3.5062 - accuracy: 0.8406 - val_loss: 1.7849 - val_accuracy: 0.8870 - lr: 0.0010\n",
      "Epoch 2/30\n",
      "282/282 [==============================] - 21s 76ms/step - loss: 1.0161 - accuracy: 0.9330 - val_loss: 0.9400 - val_accuracy: 0.7590 - lr: 0.0010\n",
      "Epoch 3/30\n",
      "282/282 [==============================] - 22s 78ms/step - loss: 0.4160 - accuracy: 0.9481 - val_loss: 3.6014 - val_accuracy: 0.5040 - lr: 0.0010\n",
      "Epoch 4/30\n",
      "282/282 [==============================] - 22s 78ms/step - loss: 0.3690 - accuracy: 0.9171 - val_loss: 2.0134 - val_accuracy: 0.6820 - lr: 0.0010\n",
      "Epoch 5/30\n",
      "282/282 [==============================] - 23s 81ms/step - loss: 0.1979 - accuracy: 0.9467 - val_loss: 0.9838 - val_accuracy: 0.6940 - lr: 0.0010\n",
      "Epoch 6/30\n",
      "282/282 [==============================] - 22s 78ms/step - loss: 0.1675 - accuracy: 0.9536 - val_loss: 0.7163 - val_accuracy: 0.7180 - lr: 0.0010\n",
      "Epoch 7/30\n",
      "282/282 [==============================] - 22s 78ms/step - loss: 0.1255 - accuracy: 0.9601 - val_loss: 0.2200 - val_accuracy: 0.9270 - lr: 0.0010\n",
      "Epoch 8/30\n",
      "282/282 [==============================] - 22s 78ms/step - loss: 0.1055 - accuracy: 0.9681 - val_loss: 1.1349 - val_accuracy: 0.7600 - lr: 0.0010\n",
      "Epoch 9/30\n",
      "282/282 [==============================] - 22s 80ms/step - loss: 0.1176 - accuracy: 0.9661 - val_loss: 1.1859 - val_accuracy: 0.7710 - lr: 0.0010\n",
      "Epoch 10/30\n",
      "282/282 [==============================] - 22s 78ms/step - loss: 0.0812 - accuracy: 0.9772 - val_loss: 3.1285 - val_accuracy: 0.6500 - lr: 0.0010\n",
      "Epoch 11/30\n",
      "282/282 [==============================] - 23s 80ms/step - loss: 0.1394 - accuracy: 0.9672 - val_loss: 1.9136 - val_accuracy: 0.6100 - lr: 0.0010\n",
      "Epoch 12/30\n",
      "282/282 [==============================] - 22s 79ms/step - loss: 0.0902 - accuracy: 0.9786 - val_loss: 0.3324 - val_accuracy: 0.8960 - lr: 0.0010\n",
      "Epoch 13/30\n",
      "282/282 [==============================] - 22s 78ms/step - loss: 0.0441 - accuracy: 0.9907 - val_loss: 0.1278 - val_accuracy: 0.9630 - lr: 2.0000e-04\n",
      "Epoch 14/30\n",
      "282/282 [==============================] - 23s 81ms/step - loss: 0.0214 - accuracy: 0.9972 - val_loss: 0.0940 - val_accuracy: 0.9730 - lr: 2.0000e-04\n",
      "Epoch 15/30\n",
      "282/282 [==============================] - 22s 80ms/step - loss: 0.0174 - accuracy: 0.9981 - val_loss: 0.4816 - val_accuracy: 0.9030 - lr: 2.0000e-04\n",
      "Epoch 16/30\n",
      "282/282 [==============================] - 23s 80ms/step - loss: 0.0485 - accuracy: 0.9880 - val_loss: 0.1769 - val_accuracy: 0.9450 - lr: 2.0000e-04\n",
      "Epoch 17/30\n",
      "282/282 [==============================] - 22s 78ms/step - loss: 0.0163 - accuracy: 0.9982 - val_loss: 0.1116 - val_accuracy: 0.9720 - lr: 2.0000e-04\n",
      "Epoch 18/30\n",
      "282/282 [==============================] - 22s 78ms/step - loss: 0.0162 - accuracy: 0.9977 - val_loss: 0.1405 - val_accuracy: 0.9640 - lr: 2.0000e-04\n",
      "Epoch 19/30\n",
      "282/282 [==============================] - 22s 78ms/step - loss: 0.0117 - accuracy: 0.9983 - val_loss: 0.4627 - val_accuracy: 0.9060 - lr: 2.0000e-04\n",
      "Epoch 20/30\n",
      "282/282 [==============================] - 22s 78ms/step - loss: 0.0087 - accuracy: 0.9997 - val_loss: 0.1136 - val_accuracy: 0.9720 - lr: 4.0000e-05\n",
      "Epoch 21/30\n",
      "282/282 [==============================] - 22s 80ms/step - loss: 0.0079 - accuracy: 0.9998 - val_loss: 0.1138 - val_accuracy: 0.9720 - lr: 4.0000e-05\n",
      "Epoch 22/30\n",
      "282/282 [==============================] - 22s 78ms/step - loss: 0.0076 - accuracy: 0.9998 - val_loss: 0.1142 - val_accuracy: 0.9710 - lr: 4.0000e-05\n",
      "Epoch 23/30\n",
      "282/282 [==============================] - 22s 78ms/step - loss: 0.0070 - accuracy: 0.9999 - val_loss: 0.1235 - val_accuracy: 0.9670 - lr: 4.0000e-05\n",
      "Epoch 24/30\n",
      "282/282 [==============================] - 22s 79ms/step - loss: 0.0072 - accuracy: 0.9997 - val_loss: 0.1150 - val_accuracy: 0.9710 - lr: 4.0000e-05\n",
      "Epoch 25/30\n",
      "282/282 [==============================] - 22s 78ms/step - loss: 0.0060 - accuracy: 1.0000 - val_loss: 0.1160 - val_accuracy: 0.9710 - lr: 1.0000e-05\n",
      "Epoch 26/30\n",
      "282/282 [==============================] - 22s 77ms/step - loss: 0.0060 - accuracy: 1.0000 - val_loss: 0.1188 - val_accuracy: 0.9700 - lr: 1.0000e-05\n",
      "Epoch 27/30\n",
      "282/282 [==============================] - 21s 76ms/step - loss: 0.0058 - accuracy: 1.0000 - val_loss: 0.1217 - val_accuracy: 0.9700 - lr: 1.0000e-05\n",
      "Epoch 28/30\n",
      "282/282 [==============================] - 22s 78ms/step - loss: 0.0058 - accuracy: 0.9999 - val_loss: 0.1236 - val_accuracy: 0.9690 - lr: 1.0000e-05\n",
      "Epoch 29/30\n",
      "282/282 [==============================] - 22s 79ms/step - loss: 0.0054 - accuracy: 1.0000 - val_loss: 0.1230 - val_accuracy: 0.9680 - lr: 1.0000e-05\n",
      "Total time: 649.1737020015717 (s)\n"
     ]
    }
   ],
   "source": [
    "init_time = time.time()\n",
    "logs = classifier.fit(X_train, y_train, epochs=30, batch_size=32, \n",
    "               validation_split=0.1, \n",
    "               callbacks=[early_stop, reduce_lr]) \n",
    "print(f\"Total time: {time.time() - init_time} (s)\")"
   ]
  },
  {
   "cell_type": "code",
   "execution_count": 14,
   "metadata": {
    "colab": {
     "base_uri": "https://localhost:8080/"
    },
    "executionInfo": {
     "elapsed": 1106,
     "status": "ok",
     "timestamp": 1674502783439,
     "user": {
      "displayName": "Crazy Programmer",
      "userId": "06838130414212290363"
     },
     "user_tz": -60
    },
    "id": "f4-k-NV-IhjL",
    "outputId": "8ff11576-9598-4b51-e152-bd50b3603aad"
   },
   "outputs": [
    {
     "name": "stdout",
     "output_type": "stream",
     "text": [
      "13/13 [==============================] - 0s 28ms/step - loss: 0.2476 - accuracy: 0.9175\n"
     ]
    },
    {
     "data": {
      "text/plain": [
       "[0.2476484626531601, 0.9175000190734863]"
      ]
     },
     "execution_count": 14,
     "metadata": {},
     "output_type": "execute_result"
    }
   ],
   "source": [
    "classifier.evaluate(X_test, y_test)"
   ]
  },
  {
   "cell_type": "code",
   "execution_count": 15,
   "metadata": {
    "colab": {
     "base_uri": "https://localhost:8080/",
     "height": 265
    },
    "executionInfo": {
     "elapsed": 16,
     "status": "ok",
     "timestamp": 1674502783440,
     "user": {
      "displayName": "Crazy Programmer",
      "userId": "06838130414212290363"
     },
     "user_tz": -60
    },
    "id": "KMH_FRafBDnv",
    "outputId": "4a232a3a-8883-4d82-9b53-6b4b45708345"
   },
   "outputs": [
    {
     "data": {
      "image/png": "[encoded data removed]",
      "text/plain": [
       "<Figure size 640x480 with 1 Axes>"
      ]
     },
     "metadata": {},
     "output_type": "display_data"
    }
   ],
   "source": [
    "plt.plot(logs.history['loss'], label=\"loss\")\n",
    "plt.plot(logs.history['val_loss'], label=\"val_loss\")\n",
    "plt.legend()\n",
    "plt.show()"
   ]
  },
  {
   "cell_type": "code",
   "execution_count": 16,
   "metadata": {
    "colab": {
     "base_uri": "https://localhost:8080/",
     "height": 265
    },
    "executionInfo": {
     "elapsed": 364,
     "status": "ok",
     "timestamp": 1674502783791,
     "user": {
      "displayName": "Crazy Programmer",
      "userId": "06838130414212290363"
     },
     "user_tz": -60
    },
    "id": "BKXHmt6jBECT",
    "outputId": "83bdc915-3aca-4fb6-8ca6-b5b705c34178"
   },
   "outputs": [
    {
     "data": {
      "image/png": "[encoded data removed]",
      "text/plain": [
       "<Figure size 640x480 with 1 Axes>"
      ]
     },
     "metadata": {},
     "output_type": "display_data"
    }
   ],
   "source": [
    "plt.plot(logs.history['accuracy'], label=\"accuracy\")\n",
    "plt.plot(logs.history['val_accuracy'], label=\"val_accuracy\")\n",
    "plt.legend()\n",
    "plt.show()"
   ]
  },
  {
   "cell_type": "code",
   "execution_count": 17,
   "metadata": {
    "executionInfo": {
     "elapsed": 3240,
     "status": "ok",
     "timestamp": 1674502787024,
     "user": {
      "displayName": "Crazy Programmer",
      "userId": "06838130414212290363"
     },
     "user_tz": -60
    },
    "id": "3g2GPNSiVWfR"
   },
   "outputs": [],
   "source": [
    "classifier.save(classifier_path) "
   ]
  },
  {
   "cell_type": "code",
   "execution_count": null,
   "metadata": {},
   "outputs": [],
   "source": []
  }
 ],
 "metadata": {
  "accelerator": "GPU",
  "colab": {
   "authorship_tag": "ABX9TyM38+7ej1VPJWYQ1aS/l1MM",
   "mount_file_id": "13EnOD7_ua_hf62goWwrvvHpxBvC_Qy5g",
   "provenance": []
  },
  "gpuClass": "standard",
  "kernelspec": {
   "display_name": "Python 3 (ipykernel)",
   "language": "python",
   "name": "python3"
  },
  "language_info": {
   "codemirror_mode": {
    "name": "ipython",
    "version": 3
   },
   "file_extension": ".py",
   "mimetype": "text/x-python",
   "name": "python",
   "nbconvert_exporter": "python",
   "pygments_lexer": "ipython3",
   "version": "3.8.15"
  },
  "toc": {
   "base_numbering": 1,
   "nav_menu": {},
   "number_sections": true,
   "sideBar": true,
   "skip_h1_title": false,
   "title_cell": "Table of Contents",
   "title_sidebar": "Contents",
   "toc_cell": false,
   "toc_position": {},
   "toc_section_display": true,
   "toc_window_display": false
  },
  "varInspector": {
   "cols": {
    "lenName": 16,
    "lenType": 16,
    "lenVar": 40
   },
   "kernels_config": {
    "python": {
     "delete_cmd_postfix": "",
     "delete_cmd_prefix": "del ",
     "library": "var_list.py",
     "varRefreshCmd": "print(var_dic_list())"
    },
    "r": {
     "delete_cmd_postfix": ") ",
     "delete_cmd_prefix": "rm(",
     "library": "var_list.r",
     "varRefreshCmd": "cat(var_dic_list()) "
    }
   },
   "types_to_exclude": [
    "module",
    "function",
    "builtin_function_or_method",
    "instance",
    "_Feature"
   ],
   "window_display": false
  }
 },
 "nbformat": 4,
 "nbformat_minor": 1
}
